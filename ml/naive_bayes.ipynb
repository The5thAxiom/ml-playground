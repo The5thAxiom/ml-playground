{
 "cells": [
  {
   "attachments": {},
   "cell_type": "markdown",
   "metadata": {},
   "source": [
    "# Naïve Bayes"
   ]
  },
  {
   "cell_type": "code",
   "execution_count": 14,
   "metadata": {},
   "outputs": [],
   "source": [
    "from math import prod\n",
    "\n",
    "import numpy as np\n",
    "import pandas as pd\n",
    "\n",
    "import yaml"
   ]
  },
  {
   "cell_type": "markdown",
   "metadata": {},
   "source": [
    "## Naïve Bayes"
   ]
  },
  {
   "cell_type": "code",
   "execution_count": 15,
   "metadata": {},
   "outputs": [
    {
     "data": {
      "text/html": [
       "<div>\n",
       "<style scoped>\n",
       "    .dataframe tbody tr th:only-of-type {\n",
       "        vertical-align: middle;\n",
       "    }\n",
       "\n",
       "    .dataframe tbody tr th {\n",
       "        vertical-align: top;\n",
       "    }\n",
       "\n",
       "    .dataframe thead th {\n",
       "        text-align: right;\n",
       "    }\n",
       "</style>\n",
       "<table border=\"1\" class=\"dataframe\">\n",
       "  <thead>\n",
       "    <tr style=\"text-align: right;\">\n",
       "      <th></th>\n",
       "      <th>age</th>\n",
       "      <th>income</th>\n",
       "      <th>student</th>\n",
       "      <th>credit_rating</th>\n",
       "      <th>buys_computer</th>\n",
       "    </tr>\n",
       "  </thead>\n",
       "  <tbody>\n",
       "    <tr>\n",
       "      <th>0</th>\n",
       "      <td>1</td>\n",
       "      <td>1</td>\n",
       "      <td>False</td>\n",
       "      <td>1</td>\n",
       "      <td>False</td>\n",
       "    </tr>\n",
       "    <tr>\n",
       "      <th>1</th>\n",
       "      <td>1</td>\n",
       "      <td>1</td>\n",
       "      <td>False</td>\n",
       "      <td>2</td>\n",
       "      <td>False</td>\n",
       "    </tr>\n",
       "    <tr>\n",
       "      <th>2</th>\n",
       "      <td>2</td>\n",
       "      <td>1</td>\n",
       "      <td>False</td>\n",
       "      <td>1</td>\n",
       "      <td>True</td>\n",
       "    </tr>\n",
       "    <tr>\n",
       "      <th>3</th>\n",
       "      <td>3</td>\n",
       "      <td>2</td>\n",
       "      <td>False</td>\n",
       "      <td>1</td>\n",
       "      <td>True</td>\n",
       "    </tr>\n",
       "    <tr>\n",
       "      <th>4</th>\n",
       "      <td>3</td>\n",
       "      <td>3</td>\n",
       "      <td>True</td>\n",
       "      <td>1</td>\n",
       "      <td>True</td>\n",
       "    </tr>\n",
       "    <tr>\n",
       "      <th>5</th>\n",
       "      <td>3</td>\n",
       "      <td>3</td>\n",
       "      <td>True</td>\n",
       "      <td>2</td>\n",
       "      <td>False</td>\n",
       "    </tr>\n",
       "    <tr>\n",
       "      <th>6</th>\n",
       "      <td>2</td>\n",
       "      <td>3</td>\n",
       "      <td>True</td>\n",
       "      <td>2</td>\n",
       "      <td>True</td>\n",
       "    </tr>\n",
       "    <tr>\n",
       "      <th>7</th>\n",
       "      <td>1</td>\n",
       "      <td>2</td>\n",
       "      <td>False</td>\n",
       "      <td>1</td>\n",
       "      <td>False</td>\n",
       "    </tr>\n",
       "    <tr>\n",
       "      <th>8</th>\n",
       "      <td>1</td>\n",
       "      <td>3</td>\n",
       "      <td>True</td>\n",
       "      <td>1</td>\n",
       "      <td>True</td>\n",
       "    </tr>\n",
       "    <tr>\n",
       "      <th>9</th>\n",
       "      <td>3</td>\n",
       "      <td>2</td>\n",
       "      <td>True</td>\n",
       "      <td>1</td>\n",
       "      <td>True</td>\n",
       "    </tr>\n",
       "    <tr>\n",
       "      <th>10</th>\n",
       "      <td>1</td>\n",
       "      <td>2</td>\n",
       "      <td>True</td>\n",
       "      <td>2</td>\n",
       "      <td>True</td>\n",
       "    </tr>\n",
       "    <tr>\n",
       "      <th>11</th>\n",
       "      <td>2</td>\n",
       "      <td>2</td>\n",
       "      <td>False</td>\n",
       "      <td>2</td>\n",
       "      <td>True</td>\n",
       "    </tr>\n",
       "    <tr>\n",
       "      <th>12</th>\n",
       "      <td>2</td>\n",
       "      <td>1</td>\n",
       "      <td>True</td>\n",
       "      <td>1</td>\n",
       "      <td>True</td>\n",
       "    </tr>\n",
       "    <tr>\n",
       "      <th>13</th>\n",
       "      <td>3</td>\n",
       "      <td>2</td>\n",
       "      <td>False</td>\n",
       "      <td>2</td>\n",
       "      <td>False</td>\n",
       "    </tr>\n",
       "  </tbody>\n",
       "</table>\n",
       "</div>"
      ],
      "text/plain": [
       "    age  income  student  credit_rating  buys_computer\n",
       "0     1       1    False              1          False\n",
       "1     1       1    False              2          False\n",
       "2     2       1    False              1           True\n",
       "3     3       2    False              1           True\n",
       "4     3       3     True              1           True\n",
       "5     3       3     True              2          False\n",
       "6     2       3     True              2           True\n",
       "7     1       2    False              1          False\n",
       "8     1       3     True              1           True\n",
       "9     3       2     True              1           True\n",
       "10    1       2     True              2           True\n",
       "11    2       2    False              2           True\n",
       "12    2       1     True              1           True\n",
       "13    3       2    False              2          False"
      ]
     },
     "execution_count": 15,
     "metadata": {},
     "output_type": "execute_result"
    }
   ],
   "source": [
    "age = {\n",
    "    1: \"<=30\",\n",
    "    2: \"31..40\",\n",
    "    3: \">40\"\n",
    "}\n",
    "income = {\n",
    "    1: \"high\",\n",
    "    2: \"medium\",\n",
    "    3: \"low\"\n",
    "}\n",
    "credit_rating = {\n",
    "    1: \"fair\",\n",
    "    2: \"excellent\"\n",
    "}\n",
    "\n",
    "df = pd.DataFrame({\n",
    "    \"age\": [1, 1, 2, 3, 3, 3, 2, 1, 1, 3, 1, 2, 2, 3],\n",
    "    \"income\": [1, 1, 1, 2, 3, 3, 3, 2, 3, 2, 2, 2, 1, 2],\n",
    "    \"student\": [False, False, False, False, True, True, True, False, True, True, True, False, True, False],\n",
    "    \"credit_rating\": [1, 2, 1, 1, 1, 2, 2, 1, 1, 1, 2, 2, 1, 2],\n",
    "    \"buys_computer\": [False, False, True, True, True, False, True, False, True, True, True, True, True, False]\n",
    "})\n",
    "df"
   ]
  },
  {
   "cell_type": "code",
   "execution_count": 16,
   "metadata": {},
   "outputs": [],
   "source": [
    "def get_val_counts(df):\n",
    "    y_vals = df.iloc[:, -1].value_counts().to_dict()\n",
    "    x_vals = {attr: df[attr].value_counts().to_dict() for attr in df.iloc[:, :-1]}\n",
    "    return x_vals, y_vals"
   ]
  },
  {
   "cell_type": "code",
   "execution_count": 17,
   "metadata": {},
   "outputs": [],
   "source": [
    "X = {\n",
    "    'age': 1,\n",
    "    'income': 2,\n",
    "    'student': True,\n",
    "    'credit_rating': 1\n",
    "}"
   ]
  },
  {
   "cell_type": "code",
   "execution_count": 18,
   "metadata": {},
   "outputs": [],
   "source": [
    "def naive_bayes(df, sample):\n",
    "    x_vals, y_vals = get_val_counts(df)\n",
    "    y_total = sum(y_vals[y] for y in y_vals)\n",
    "    pc = {y: y_vals[y]/y_total for y in y_vals}\n",
    "    pxc = {\n",
    "        attr: { # for every class\n",
    "        # for all class labels, calclulate P(X|Ci)\n",
    "            # y: (the number of records with the attr value given a class label y) / (no of records with class label y)\n",
    "            y: len(df.loc[(\n",
    "                df[attr] == sample[attr]\n",
    "            ) & (\n",
    "                df.iloc[:, -1] == y\n",
    "            )]) / y_vals[y] for y in y_vals\n",
    "        } for attr in sample\n",
    "    }\n",
    "\n",
    "    # P(X | Ci) * P(Ci) for each class label\n",
    "    finals = {\n",
    "        y: prod([pxc[attr][y] for attr in pxc]) * pc[y] for y in y_vals\n",
    "    }\n",
    "\n",
    "    # return the maximum\n",
    "    return max(finals, key=lambda x: finals[x])"
   ]
  },
  {
   "cell_type": "code",
   "execution_count": 19,
   "metadata": {},
   "outputs": [
    {
     "data": {
      "text/plain": [
       "True"
      ]
     },
     "execution_count": 19,
     "metadata": {},
     "output_type": "execute_result"
    }
   ],
   "source": [
    "naive_bayes(df, X)"
   ]
  }
 ],
 "metadata": {
  "kernelspec": {
   "display_name": "Python 3.10.6 64-bit",
   "language": "python",
   "name": "python3"
  },
  "language_info": {
   "codemirror_mode": {
    "name": "ipython",
    "version": 3
   },
   "file_extension": ".py",
   "mimetype": "text/x-python",
   "name": "python",
   "nbconvert_exporter": "python",
   "pygments_lexer": "ipython3",
   "version": "3.11.1"
  },
  "orig_nbformat": 4,
  "vscode": {
   "interpreter": {
    "hash": "e7370f93d1d0cde622a1f8e1c04877d8463912d04d973331ad4851f04de6915a"
   }
  }
 },
 "nbformat": 4,
 "nbformat_minor": 2
}
