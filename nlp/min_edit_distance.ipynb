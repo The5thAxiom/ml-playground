{
 "cells": [
  {
   "cell_type": "code",
   "execution_count": 19,
   "metadata": {},
   "outputs": [],
   "source": [
    "from pprint import pprint"
   ]
  },
  {
   "cell_type": "code",
   "execution_count": 54,
   "metadata": {},
   "outputs": [],
   "source": [
    "def min_edit_distance(source: str, target: str) -> int:\n",
    "    n = len(source)\n",
    "    m = len(target)\n",
    "    d = [[0 for _ in range(n+1)] for _ in range(m+1)]\n",
    "\n",
    "    def del_cost(a: str):\n",
    "        return 1\n",
    "    def ins_cost(a: str):\n",
    "        return 1\n",
    "    def sub_cost(a: str, b: str):\n",
    "        return 0 if a == b else 2\n",
    "\n",
    "    for i in range(1, n+1):\n",
    "        d[i][0] = d[i-1][0] + del_cost(source[i-1])\n",
    "    for j in range(1, m+1):\n",
    "        d[0][j] = d[0][j-1] + ins_cost(target[j-1])\n",
    "\n",
    "    for i in range(1, n+1):\n",
    "        for j in range(1, m+1):\n",
    "            d[i][j] = min([\n",
    "                d[i-1][j] + del_cost(source[i-1]),\n",
    "                d[i-1][j-1] + sub_cost(source[i-1], target[j-1]),\n",
    "                d[i][j-1] + ins_cost(target[j-1])\n",
    "            ])\n",
    "\n",
    "    pprint(d)\n",
    "    return d[n-1][m-1]"
   ]
  },
  {
   "cell_type": "code",
   "execution_count": 55,
   "metadata": {},
   "outputs": [
    {
     "name": "stdout",
     "output_type": "stream",
     "text": [
      "[[0, 1, 2, 3, 4, 5, 6, 7, 8, 9],\n",
      " [1, 2, 3, 4, 5, 6, 7, 6, 7, 8],\n",
      " [2, 3, 4, 5, 6, 7, 8, 7, 8, 7],\n",
      " [3, 4, 5, 6, 7, 8, 7, 8, 9, 8],\n",
      " [4, 3, 4, 5, 6, 7, 8, 9, 10, 9],\n",
      " [5, 4, 5, 6, 7, 8, 9, 10, 11, 10],\n",
      " [6, 5, 6, 7, 8, 9, 8, 9, 10, 11],\n",
      " [7, 6, 7, 8, 9, 10, 9, 8, 9, 10],\n",
      " [8, 7, 8, 9, 10, 11, 10, 9, 8, 9],\n",
      " [9, 8, 9, 10, 11, 12, 11, 10, 9, 8]]\n"
     ]
    },
    {
     "data": {
      "text/plain": [
       "8"
      ]
     },
     "execution_count": 55,
     "metadata": {},
     "output_type": "execute_result"
    }
   ],
   "source": [
    "min_edit_distance('intention', 'execution')\n"
   ]
  }
 ],
 "metadata": {
  "kernelspec": {
   "display_name": "Python 3.10.8 64-bit",
   "language": "python",
   "name": "python3"
  },
  "language_info": {
   "codemirror_mode": {
    "name": "ipython",
    "version": 3
   },
   "file_extension": ".py",
   "mimetype": "text/x-python",
   "name": "python",
   "nbconvert_exporter": "python",
   "pygments_lexer": "ipython3",
   "version": "3.10.8"
  },
  "orig_nbformat": 4,
  "vscode": {
   "interpreter": {
    "hash": "e7370f93d1d0cde622a1f8e1c04877d8463912d04d973331ad4851f04de6915a"
   }
  }
 },
 "nbformat": 4,
 "nbformat_minor": 2
}
